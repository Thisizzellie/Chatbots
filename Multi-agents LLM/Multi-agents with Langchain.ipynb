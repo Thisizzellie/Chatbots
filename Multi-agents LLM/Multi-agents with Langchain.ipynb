{
 "cells": [
  {
   "cell_type": "markdown",
   "id": "d8735849-8bd9-4dbe-8385-bcc0e54b9846",
   "metadata": {},
   "source": [
    "![](images/integrating_tools.png)\n",
    "\n",
    "### 🔨 Multi-agents \n",
    "\n",
    "1. `wikipedia_tool()`: Wikipedia search of company information.\n",
    "2. `stock_data_tool()`: returns stock performance data from CSV files.\n",
    "3. `python_repl_tool()`: runs Python code to generate plots."
   ]
  },
  {
   "cell_type": "markdown",
   "id": "9bcd22ac-70f0-4d49-9b63-47d97b85313c",
   "metadata": {},
   "source": [
    "**Creating the environment and defining the tools.**"
   ]
  },
  {
   "cell_type": "code",
   "execution_count": null,
   "id": "62c08f22-3b3b-4482-a2af-0890aed637ea",
   "metadata": {
    "collapsed": true,
    "executionCancelledAt": null,
    "executionTime": 3058,
    "jupyter": {
     "outputs_hidden": true,
     "source_hidden": false
    },
    "lastExecutedAt": 1755466176265,
    "lastExecutedByKernel": "79bbbfd7-0156-49e4-bdeb-ab9e91d266c3",
    "lastScheduledRunId": null,
    "lastSuccessfullyExecutedCode": "!pip install --quiet wikipedia==1.4.0 langchain-core==0.3.59 langgraph==0.5.3 langchain-openai==0.3.16 langchain-experimental==0.3.4",
    "outputsMetadata": {
     "0": {
      "height": 80,
      "type": "stream"
     }
    }
   },
   "outputs": [
    {
     "name": "stdout",
     "output_type": "stream",
     "text": [
      "\n",
      "\u001b[1m[\u001b[0m\u001b[34;49mnotice\u001b[0m\u001b[1;39;49m]\u001b[0m\u001b[39;49m A new release of pip is available: \u001b[0m\u001b[31;49m25.0.1\u001b[0m\u001b[39;49m -> \u001b[0m\u001b[32;49m25.2\u001b[0m\n",
      "\u001b[1m[\u001b[0m\u001b[34;49mnotice\u001b[0m\u001b[1;39;49m]\u001b[0m\u001b[39;49m To update, run: \u001b[0m\u001b[32;49mpython3 -m pip install --upgrade pip\u001b[0m\n"
     ]
    }
   ],
   "source": [
    "!pip install --quiet wikipedia==1.4.0 langchain-core==0.3.59 langgraph==0.5.3 langchain-openai==0.3.16 langchain-experimental==0.3.4"
   ]
  },
  {
   "cell_type": "code",
   "execution_count": null,
   "id": "d6fb94c7-bce9-485e-854c-3f93e501fc87",
   "metadata": {
    "collapsed": false,
    "executionCancelledAt": null,
    "executionTime": 61,
    "jupyter": {
     "outputs_hidden": false,
     "source_hidden": false
    },
    "lastExecutedAt": 1755466176328,
    "lastExecutedByKernel": "79bbbfd7-0156-49e4-bdeb-ab9e91d266c3",
    "lastScheduledRunId": null,
    "lastSuccessfullyExecutedCode": "from typing import Annotated\nimport wikipedia\nfrom langchain_core.tools import tool\nimport pandas as pd\nimport os\n\n@tool\ndef wikipedia_tool(\n    query: Annotated[str, \"The Wikipedia search to execute to find key summary information.\"],\n):\n    \"\"\"Use this to search Wikipedia for factual information.\"\"\"\n    try:\n        # Step 1: Search using query\n        results = wikipedia.search(query)\n        \n        if not results:\n            return \"No results found on Wikipedia.\"\n        \n        # Step 2: Retrieve page title\n        title = results[0]\n\n        # Step 3: Fetch summary\n        summary = wikipedia.summary(title, sentences=8, auto_suggest=False, redirect=True)\n    except BaseException as e:\n        return f\"Failed to execute. Error: {repr(e)}\"\n    return f\"Successfully executed:\\nWikipedia summary: {summary}\"\n\n@tool\ndef stock_data_tool(\n    company_ticker: Annotated[str, \"The ticker symbol of the company to retrieve their stock performance data.\"], \n    num_days: Annotated[int, \"The number of business days of stock data required to respond to the user query.\"]\n) -> str:\n    \"\"\"\n    Use this to look-up stock performance data for companies to retrieve a table from a CSV. You may need to convert company names into ticker symbols to call this function, e.g, Apple Inc. -> AAPL, and you may need to convert weeks, months, and years, into days.\n    \"\"\"\n    \n    # Load the CSV for the company requested\n    file_path = f\"data/{company_ticker}.csv\"\n\n    if os.path.exists(file_path) is False:\n        return f\"Sorry, but data for company {company_ticker} is not available. Please try Apple, Amazon, Meta, Microsoft, Netflix, or Tesla.\"\n    \n    stock_df = pd.read_csv(file_path, index_col='Date', parse_dates=True)\n\n    # Ensure the index is in date format\n    stock_df.index = stock_df.index.date\n    \n    # Maximum num_days supported by the dataset\n    max_num_days = (stock_df.index.max() - stock_df.index.min()).days\n    \n    if num_days > max_num_days:\n        return \"Sorry, but this time period exceeds the data available. Please reduce it to continue.\"\n    \n    # Get the most recent date in the DataFrame\n    final_date = stock_df.index.max()\n\n    # Filter the DataFrame to get the last num_days of stock data\n    filtered_df = stock_df[stock_df.index > (final_date - pd.Timedelta(days=num_days))]\n\n    return f\"Successfully executed the stock performance data retrieval tool to retrieve the last *{num_days} days* of data for company **{company_ticker}**:\\n\\n{filtered_df.to_markdown()}\"\n\nfrom langchain_experimental.utilities import PythonREPL\n\nrepl = PythonREPL()\n\n@tool\ndef python_repl_tool(\n    code: Annotated[str, \"The python code to execute to generate your chart.\"],\n):\n    \"\"\"Use this to execute python code. If you want to see the output of a value,\n    you should print it out with `print(...)`. This is visible to the user. The chart should be displayed using `plt.show()`.\"\"\"\n    try:\n        result = repl.run(code)\n    except BaseException as e:\n        return f\"Failed to execute. Error: {repr(e)}\"\n    return f\"Successfully executed the Python REPL tool.\\n\\nPython code executed:\\n\\`\\`\\`python\\n{code}\\n\\`\\`\\`\\n\\nCode output:\\n\\`\\`\\`\\n{result}\\`\\`\\`\""
   },
   "outputs": [],
   "source": [
    "from typing import Annotated\n",
    "import wikipedia\n",
    "from langchain_core.tools import tool\n",
    "import pandas as pd\n",
    "import os\n",
    "\n",
    "@tool\n",
    "def wikipedia_tool(\n",
    "    query: Annotated[str, \"The Wikipedia search to execute to find key summary information.\"],\n",
    "):\n",
    "    \"\"\"Use this to search Wikipedia for factual information.\"\"\"\n",
    "    try:\n",
    "        # Step 1: Search using query\n",
    "        results = wikipedia.search(query)\n",
    "        \n",
    "        if not results:\n",
    "            return \"No results found on Wikipedia.\"\n",
    "        \n",
    "        # Step 2: Retrieve page title\n",
    "        title = results[0]\n",
    "\n",
    "        # Step 3: Fetch summary\n",
    "        summary = wikipedia.summary(title, sentences=8, auto_suggest=False, redirect=True)\n",
    "    except BaseException as e:\n",
    "        return f\"Failed to execute. Error: {repr(e)}\"\n",
    "    return f\"Successfully executed:\\nWikipedia summary: {summary}\"\n",
    "\n",
    "@tool\n",
    "def stock_data_tool(\n",
    "    company_ticker: Annotated[str, \"The ticker symbol of the company to retrieve their stock performance data.\"], \n",
    "    num_days: Annotated[int, \"The number of business days of stock data required to respond to the user query.\"]\n",
    ") -> str:\n",
    "    \"\"\"\n",
    "    Use this to look-up stock performance data for companies to retrieve a table from a CSV. You may need to convert company names into ticker symbols to call this function, e.g, Apple Inc. -> AAPL, and you may need to convert weeks, months, and years, into days.\n",
    "    \"\"\"\n",
    "    \n",
    "    # Load the CSV for the company requested\n",
    "    file_path = f\"data/{company_ticker}.csv\"\n",
    "\n",
    "    if os.path.exists(file_path) is False:\n",
    "        return f\"Sorry, but data for company {company_ticker} is not available. Please try Apple, Amazon, Meta, Microsoft, Netflix, or Tesla.\"\n",
    "    \n",
    "    stock_df = pd.read_csv(file_path, index_col='Date', parse_dates=True)\n",
    "\n",
    "    # Ensure the index is in date format\n",
    "    stock_df.index = stock_df.index.date\n",
    "    \n",
    "    # Maximum num_days supported by the dataset\n",
    "    max_num_days = (stock_df.index.max() - stock_df.index.min()).days\n",
    "    \n",
    "    if num_days > max_num_days:\n",
    "        return \"Sorry, but this time period exceeds the data available. Please reduce it to continue.\"\n",
    "    \n",
    "    # Get the most recent date in the DataFrame\n",
    "    final_date = stock_df.index.max()\n",
    "\n",
    "    # Filter the DataFrame to get the last num_days of stock data\n",
    "    filtered_df = stock_df[stock_df.index > (final_date - pd.Timedelta(days=num_days))]\n",
    "\n",
    "    return f\"Successfully executed the stock performance data retrieval tool to retrieve the last *{num_days} days* of data for company **{company_ticker}**:\\n\\n{filtered_df.to_markdown()}\"\n",
    "\n",
    "from langchain_experimental.utilities import PythonREPL\n",
    "\n",
    "repl = PythonREPL()\n",
    "\n",
    "@tool\n",
    "def python_repl_tool(\n",
    "    code: Annotated[str, \"The python code to execute to generate your chart.\"],\n",
    "):\n",
    "    \"\"\"Use this to execute python code. If you want to see the output of a value,\n",
    "    you should print it out with `print(...)`. This is visible to the user. The chart should be displayed using `plt.show()`.\"\"\"\n",
    "    try:\n",
    "        result = repl.run(code)\n",
    "    except BaseException as e:\n",
    "        return f\"Failed to execute. Error: {repr(e)}\"\n",
    "    return f\"Successfully executed the Python REPL tool.\\n\\nPython code executed:\\n\\`\\`\\`python\\n{code}\\n\\`\\`\\`\\n\\nCode output:\\n\\`\\`\\`\\n{result}\\`\\`\\`\""
   ]
  },
  {
   "cell_type": "markdown",
   "id": "3d5ee6aa-7a6b-4b84-b97b-798e16fa8b0e",
   "metadata": {},
   "source": [
    "These tools, when fully integrated into the graph, will be available for the chatbot to call depending on whether it determines a tool is required.\n",
    "\n",
    "Each tool created with the `@tool` decorator has a description, which is made available to the model when the tools and model are binded together."
   ]
  },
  {
   "cell_type": "code",
   "execution_count": null,
   "id": "a7387bf8-a070-4115-b022-77682ede54d3",
   "metadata": {
    "executionCancelledAt": null,
    "executionTime": 48,
    "lastExecutedAt": 1755466176377,
    "lastExecutedByKernel": "79bbbfd7-0156-49e4-bdeb-ab9e91d266c3",
    "lastScheduledRunId": null,
    "lastSuccessfullyExecutedCode": "# Loop through the tools and extract the .name and .description attributes\nfor tool in [wikipedia_tool, stock_data_tool, python_repl_tool]:\n    print(f\"The description for {tool.name}:\\n> {tool.description}\\n\")\n",
    "outputsMetadata": {
     "0": {
      "height": 290,
      "type": "stream"
     }
    }
   },
   "outputs": [
    {
     "name": "stdout",
     "output_type": "stream",
     "text": [
      "The description for wikipedia_tool:\n",
      "> Use this to search Wikipedia for factual information.\n",
      "\n",
      "The description for stock_data_tool:\n",
      "> Use this to look-up stock performance data for companies to retrieve a table from a CSV. You may need to convert company names into ticker symbols to call this function, e.g, Apple Inc. -> AAPL, and you may need to convert weeks, months, and years, into days.\n",
      "\n",
      "The description for python_repl_tool:\n",
      "> Use this to execute python code. If you want to see the output of a value,\n",
      "    you should print it out with `print(...)`. This is visible to the user. The chart should be displayed using `plt.show()`.\n",
      "\n"
     ]
    }
   ],
   "source": [
    "# Loop through the tools and extract the .name and .description attributes\n",
    "for tool in [wikipedia_tool, stock_data_tool, python_repl_tool]:\n",
    "    print(f\"The description for {tool.name}:\\n> {tool.description}\\n\")\n"
   ]
  },
  {
   "cell_type": "markdown",
   "id": "3dca3411-19bb-4865-9fe1-b895c6c4ce02",
   "metadata": {},
   "source": [
    "The docstrings in the tools became the tool descriptions! This means that a description that makes it clear to the model when and how to use the tool is crucial in the model's decision-making process."
   ]
  },
  {
   "cell_type": "markdown",
   "id": "f8248228-e135-4006-819f-7beae67a5a76",
   "metadata": {},
   "source": [
    "To make the LLM aware of what tools are available, we can bind them together using the `.bind_tools()` method on the LLM. This binded object is what will be invoked by the function used in the `\"llm\"` node."
   ]
  },
  {
   "cell_type": "code",
   "execution_count": null,
   "id": "eda176ac-0316-4c12-a04f-f532ba5f865c",
   "metadata": {
    "executionCancelledAt": null,
    "executionTime": 185,
    "lastExecutedAt": 1755466176562,
    "lastExecutedByKernel": "79bbbfd7-0156-49e4-bdeb-ab9e91d266c3",
    "lastScheduledRunId": null,
    "lastSuccessfullyExecutedCode": "from typing import Annotated\nfrom typing_extensions import TypedDict\nfrom langgraph.graph import StateGraph, START, END\nfrom langgraph.graph.message import add_messages\nfrom langchain_openai import ChatOpenAI\n\nclass State(TypedDict):\n    messages: Annotated[list, add_messages]\n\ngraph_builder = StateGraph(State)\n\n# Add three tools to the list: wikipedia_tool, stock_data_tool, and python_repl_tool\ntools = [wikipedia_tool, stock_data_tool, python_repl_tool]\n\nllm = ChatOpenAI(model=\"gpt-4o-mini\")\n\n# Tell the LLM which tools it can call\nllm_with_tools = ChatOpenAI(model=\"gpt-4o-mini\")\n\n# Invoke llm_with_tools in the llm_node() function\ndef llm_node(state: State):\n    return {\"messages\": [llm_with_tools.invoke(state[\"messages\"])]}"
   },
   "outputs": [],
   "source": [
    "from typing import Annotated\n",
    "from typing_extensions import TypedDict\n",
    "from langgraph.graph import StateGraph, START, END\n",
    "from langgraph.graph.message import add_messages\n",
    "from langchain_openai import ChatOpenAI\n",
    "\n",
    "class State(TypedDict):\n",
    "    messages: Annotated[list, add_messages]\n",
    "\n",
    "graph_builder = StateGraph(State)\n",
    "\n",
    "# Add three tools to the list: wikipedia_tool, stock_data_tool, and python_repl_tool\n",
    "tools = [wikipedia_tool, stock_data_tool, python_repl_tool]\n",
    "\n",
    "llm = ChatOpenAI(model=\"gpt-4o-mini\")\n",
    "\n",
    "# Tell the LLM which tools it can call\n",
    "llm_with_tools = ChatOpenAI(model=\"gpt-4o-mini\")\n",
    "\n",
    "# Invoke llm_with_tools in the llm_node() function\n",
    "def llm_node(state: State):\n",
    "    return {\"messages\": [llm_with_tools.invoke(state[\"messages\"])]}"
   ]
  },
  {
   "cell_type": "markdown",
   "id": "6bcf9326-37ae-4a2c-802e-3dda2cb152b4",
   "metadata": {},
   "source": [
    "![](images/tools_linear.png)\n",
    "\n",
    "To actually run these tools in the graph, tools need to be assigned their own node.\n",
    "\n",
    "We can create a **tool node** using the `ToolNode` class, add it to the graph with `.add_node()`, and connect the node to the graph with an edge as you did with the `\"llm\"` node."
   ]
  },
  {
   "cell_type": "code",
   "execution_count": null,
   "id": "e69b9b99-6e47-4db3-854e-52005e71a998",
   "metadata": {
    "executionCancelledAt": null,
    "executionTime": 49,
    "lastExecutedAt": 1755466176612,
    "lastExecutedByKernel": "79bbbfd7-0156-49e4-bdeb-ab9e91d266c3",
    "lastScheduledRunId": null,
    "lastSuccessfullyExecutedCode": "## TASK 3\nfrom langgraph.prebuilt import ToolNode\n\ngraph_builder.add_node(\"llm\", llm_node)\n\n# Create a tool node containing the three tools you defined\ntool_node = ToolNode(tools=tools)\ngraph_builder.add_node(\"tools\", tool_node)\n\n# Create edges to represent the linear workflow\ngraph_builder.add_edge(START, \"llm\")\ngraph_builder.add_edge(\"llm\", \"tools\")\ngraph_builder.add_edge(\"tools\", END)\n\ngraph = graph_builder.compile()"
   },
   "outputs": [],
   "source": [
    "# Create a node that uses the LLM to process the messages\n",
    "from langgraph.prebuilt import ToolNode\n",
    "\n",
    "graph_builder.add_node(\"llm\", llm_node)\n",
    "\n",
    "# Create a tool node containing the three tools you defined\n",
    "tool_node = ToolNode(tools=tools)\n",
    "graph_builder.add_node(\"tools\", tool_node)\n",
    "\n",
    "# Create edges to represent the linear workflow\n",
    "graph_builder.add_edge(START, \"llm\")\n",
    "graph_builder.add_edge(\"llm\", \"tools\")\n",
    "graph_builder.add_edge(\"tools\", END)\n",
    "\n",
    "graph = graph_builder.compile()"
   ]
  },
  {
   "cell_type": "markdown",
   "id": "d4cfe3df-3cbf-4d8e-9ed3-2a52e53255e3",
   "metadata": {},
   "source": [
    "Re-run the visualization code to see your updated graph! "
   ]
  },
  {
   "cell_type": "code",
   "execution_count": null,
   "id": "6e851cef-81ca-4cb9-84de-cd185ec6a102",
   "metadata": {
    "executionCancelledAt": null,
    "executionTime": 51,
    "lastExecutedAt": 1755466176664,
    "lastExecutedByKernel": "79bbbfd7-0156-49e4-bdeb-ab9e91d266c3",
    "lastScheduledRunId": null,
    "lastSuccessfullyExecutedCode": "# Visualize your graph\ngraph"
   },
   "outputs": [
    {
     "data": {
      "image/png": "[encoded data removed]",
      "text/plain": [
       "<langgraph.graph.state.CompiledStateGraph object at 0x7f52c3a51fc0>"
      ]
     },
     "execution_count": 19,
     "metadata": {},
     "output_type": "execute_result"
    }
   ],
   "source": [
    "# Visualize your graph\n",
    "graph"
   ]
  },
  {
   "cell_type": "markdown",
   "id": "abf7c144-a698-4882-aa57-453e1ffc2804",
   "metadata": {},
   "source": [
    " The input is entering the chatbot node, then entering the tool node to run the tools, before finishing.\n",
    "\n",
    "We will run the code below to begin interacting with our (now tool-powered) agent. Specifically, running these inputs:\n",
    "\n",
    "1. Tell me about Apple Inc.\n",
    "2. AAPL stock price.\n",
    "3. Plot an Open price time-series of AAPL.\n",
    "4. My name is `<Insert your name>`."
   ]
  },
  {
   "cell_type": "code",
   "execution_count": null,
   "id": "0a64c491-c452-4085-b1f4-9d40464c9f55",
   "metadata": {
    "executionCancelledAt": null,
    "executionTime": 7612,
    "lastExecutedAt": 1755466184276,
    "lastExecutedByKernel": "79bbbfd7-0156-49e4-bdeb-ab9e91d266c3",
    "lastScheduledRunId": null,
    "lastSuccessfullyExecutedCode": "from course_helper_functions import pretty_print_messages\n\nfor chunk in graph.stream(\n    {\"messages\": [{\"role\": \"user\", \"content\": \"Tell me about Apple Inc.\"}]}\n):\n    pretty_print_messages(chunk)",
    "outputsMetadata": {
     "0": {
      "height": 616,
      "type": "stream"
     }
    }
   },
   "outputs": [
    {
     "name": "stdout",
     "output_type": "stream",
     "text": [
      "Update from node llm:\n",
      "\n",
      "\n",
      "==================================\u001b[1m Ai Message \u001b[0m==================================\n",
      "\n",
      "Apple Inc. is a multinational technology company headquartered in Cupertino, California. Founded in 1976 by Steve Jobs, Steve Wozniak, and Ronald Wayne, Apple is known for its innovative products, software, and services. The company's mission is to design and manufacture consumer electronics, computer hardware, and software, all while enhancing the user experience.\n",
      "\n",
      "### Key Products and Services\n",
      "\n",
      "1. **iPhone**: Launched in 2007, the iPhone revolutionized the smartphone industry with its touchscreen interface and app ecosystem. It has become one of Apple’s most significant revenue sources.\n",
      "\n",
      "2. **Mac**: Apple's line of personal computers includes the MacBook Air, MacBook Pro, iMac, Mac mini, and Mac Pro. The Mac is known for its robust performance, sleek design, and user-friendly interface, especially macOS.\n",
      "\n",
      "3. **iPad**: Launched in 2010, the iPad is a line of tablet computers that has found use in various sectors, including education, business, and entertainment.\n",
      "\n",
      "4. **Apple Watch**: Introduced in 2015, the Apple Watch is a smartwatch that focuses on health, fitness tracking, and communication, serving as an extension of the iPhone.\n",
      "\n",
      "5. **AirPods**: Wireless earbuds launched in 2016, AirPods have gained popularity for their performance and seamless integration with other Apple devices.\n",
      "\n",
      "6. **Software**: Apple develops its own operating systems, including iOS (for iPhones and iPads), macOS (for Macs), watchOS (for Apple Watch), and tvOS (for Apple TV). Additionally, the company offers productivity software like iWork, as well as entertainment services like Apple Music, Apple TV+, and the App Store.\n",
      "\n",
      "### Financials and Market Position\n",
      "\n",
      "Apple is one of the largest companies in the world by market capitalization, frequently trading among the top positions alongside companies like Microsoft and Amazon. Its financial performance has been characterized by strong sales growth, high profitability, and substantial cash reserves. The company has also been known for its shareholder-friendly policies, including dividends and share buybacks.\n",
      "\n",
      "### Innovations and Influence\n",
      "\n",
      "Apple is recognized for its commitment to design aesthetics, user-centric innovation, and marketing prowess. Its impact on consumer electronics and software development is profound, often setting trends in technology and influencing competitors.\n",
      "\n",
      "### Sustainability and Social Responsibility\n",
      "\n",
      "In recent years, Apple has focused on sustainability, aiming to reduce its environmental impact. The company has committed to using 100% recycled materials in its products and achieving carbon neutrality across its entire supply chain by 2030.\n",
      "\n",
      "### Challenges\n",
      "\n",
      "Despite its success, Apple faces various challenges, including competition from other tech giants, regulatory scrutiny related to antitrust issues, and supply chain disruptions. The company's reliance on the iPhone for a significant portion of its revenue has also raised concerns about long-term growth.\n",
      "\n",
      "Overall, Apple Inc. remains a leader in the technology sector, continuously evolving its product offerings while influencing markets and consumer behavior globally.\n",
      "\n",
      "\n",
      "Update from node tools:\n",
      "\n",
      "\n",
      "\n",
      "\n"
     ]
    }
   ],
   "source": [
    "from course_helper_functions import pretty_print_messages\n",
    "\n",
    "for chunk in graph.stream(\n",
    "    {\"messages\": [{\"role\": \"user\", \"content\": \"Tell me about Apple Inc.\"}]}\n",
    "):\n",
    "    pretty_print_messages(chunk)"
   ]
  },
  {
   "cell_type": "markdown",
   "id": "2a3c4b37-bbb5-408c-9ea2-b57667472c4d",
   "metadata": {},
   "source": [
    "\n",
    "1. The plotting function didn't work&mdash;this is because this tool relies on another tool's output (the stock performance data tool). Without this data, the agent is forced to do something else. \n",
    "2. In this example, the chatbot node was always directed into the tools node, regardless of whether the user input requires a tool call or not. In the case of sending your name to the LLM, it stopped when it realized that no tools were required instead of falling back to a standard chatbot response. "
   ]
  }
 ],
 "metadata": {
  "editor": "DataLab",
  "kernelspec": {
   "display_name": "Python 3 (ipykernel)",
   "language": "python",
   "name": "python3"
  },
  "language_info": {
   "codemirror_mode": {
    "name": "ipython",
    "version": 3
   },
   "file_extension": ".py",
   "mimetype": "text/x-python",
   "name": "python",
   "nbconvert_exporter": "python",
   "pygments_lexer": "ipython3",
   "version": "3.10.12"
  }
 },
 "nbformat": 4,
 "nbformat_minor": 5
}
